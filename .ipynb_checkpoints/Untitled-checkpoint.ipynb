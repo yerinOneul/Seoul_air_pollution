{
 "cells": [
  {
   "cell_type": "code",
   "execution_count": 2,
   "metadata": {},
   "outputs": [],
   "source": [
    "from seoul import Preprocessing"
   ]
  },
  {
   "cell_type": "code",
   "execution_count": 3,
   "metadata": {},
   "outputs": [],
   "source": [
    "import pandas as pd"
   ]
  },
  {
   "cell_type": "code",
   "execution_count": 4,
   "metadata": {},
   "outputs": [],
   "source": [
    "a = pd.read_csv(\"seoul_air_20130301-20170228.csv\")"
   ]
  },
  {
   "cell_type": "code",
   "execution_count": 5,
   "metadata": {},
   "outputs": [],
   "source": [
    "a.drop(columns=[\"MSRDT\",\"MSRSTE_NM\"],inplace=True)"
   ]
  },
  {
   "cell_type": "code",
   "execution_count": 6,
   "metadata": {},
   "outputs": [
    {
     "name": "stdout",
     "output_type": "stream",
     "text": [
      "<class 'pandas.core.frame.DataFrame'>\n",
      "RangeIndex: 872901 entries, 0 to 872900\n",
      "Data columns (total 6 columns):\n",
      " #   Column  Non-Null Count   Dtype  \n",
      "---  ------  --------------   -----  \n",
      " 0   NO2     872901 non-null  float64\n",
      " 1   O3      872901 non-null  float64\n",
      " 2   CO      872901 non-null  float64\n",
      " 3   SO2     872901 non-null  float64\n",
      " 4   PM10    872901 non-null  float64\n",
      " 5   PM25    872901 non-null  float64\n",
      "dtypes: float64(6)\n",
      "memory usage: 40.0 MB\n"
     ]
    }
   ],
   "source": [
    "a.info()"
   ]
  },
  {
   "cell_type": "code",
   "execution_count": 7,
   "metadata": {},
   "outputs": [],
   "source": [
    "q = Preprocessing().scaler(a)"
   ]
  },
  {
   "cell_type": "code",
   "execution_count": 8,
   "metadata": {},
   "outputs": [
    {
     "data": {
      "text/html": [
       "<div>\n",
       "<style scoped>\n",
       "    .dataframe tbody tr th:only-of-type {\n",
       "        vertical-align: middle;\n",
       "    }\n",
       "\n",
       "    .dataframe tbody tr th {\n",
       "        vertical-align: top;\n",
       "    }\n",
       "\n",
       "    .dataframe thead th {\n",
       "        text-align: right;\n",
       "    }\n",
       "</style>\n",
       "<table border=\"1\" class=\"dataframe\">\n",
       "  <thead>\n",
       "    <tr style=\"text-align: right;\">\n",
       "      <th></th>\n",
       "      <th>NO2</th>\n",
       "      <th>O3</th>\n",
       "      <th>CO</th>\n",
       "      <th>SO2</th>\n",
       "      <th>PM10</th>\n",
       "      <th>PM25</th>\n",
       "    </tr>\n",
       "  </thead>\n",
       "  <tbody>\n",
       "    <tr>\n",
       "      <th>0</th>\n",
       "      <td>-0.609132</td>\n",
       "      <td>0.401441</td>\n",
       "      <td>0.705678</td>\n",
       "      <td>-0.075234</td>\n",
       "      <td>0.007840</td>\n",
       "      <td>-0.140831</td>\n",
       "    </tr>\n",
       "    <tr>\n",
       "      <th>1</th>\n",
       "      <td>-1.011489</td>\n",
       "      <td>0.613120</td>\n",
       "      <td>-0.771591</td>\n",
       "      <td>-0.506737</td>\n",
       "      <td>-0.193438</td>\n",
       "      <td>-0.320984</td>\n",
       "    </tr>\n",
       "    <tr>\n",
       "      <th>2</th>\n",
       "      <td>-0.896530</td>\n",
       "      <td>0.560201</td>\n",
       "      <td>-0.402274</td>\n",
       "      <td>0.356270</td>\n",
       "      <td>-0.193438</td>\n",
       "      <td>-0.212892</td>\n",
       "    </tr>\n",
       "    <tr>\n",
       "      <th>3</th>\n",
       "      <td>-0.609132</td>\n",
       "      <td>0.242681</td>\n",
       "      <td>-0.402274</td>\n",
       "      <td>-0.075234</td>\n",
       "      <td>-0.049668</td>\n",
       "      <td>-0.104800</td>\n",
       "    </tr>\n",
       "    <tr>\n",
       "      <th>4</th>\n",
       "      <td>-0.781571</td>\n",
       "      <td>0.666040</td>\n",
       "      <td>-0.771591</td>\n",
       "      <td>0.356270</td>\n",
       "      <td>-0.049668</td>\n",
       "      <td>-0.248923</td>\n",
       "    </tr>\n",
       "    <tr>\n",
       "      <th>...</th>\n",
       "      <td>...</td>\n",
       "      <td>...</td>\n",
       "      <td>...</td>\n",
       "      <td>...</td>\n",
       "      <td>...</td>\n",
       "      <td>...</td>\n",
       "    </tr>\n",
       "    <tr>\n",
       "      <th>872896</th>\n",
       "      <td>1.805010</td>\n",
       "      <td>-1.080316</td>\n",
       "      <td>0.705678</td>\n",
       "      <td>-0.506737</td>\n",
       "      <td>-0.452224</td>\n",
       "      <td>-0.212892</td>\n",
       "    </tr>\n",
       "    <tr>\n",
       "      <th>872897</th>\n",
       "      <td>1.862489</td>\n",
       "      <td>-1.080316</td>\n",
       "      <td>0.705678</td>\n",
       "      <td>-0.075234</td>\n",
       "      <td>-0.222192</td>\n",
       "      <td>-0.032739</td>\n",
       "    </tr>\n",
       "    <tr>\n",
       "      <th>872898</th>\n",
       "      <td>1.632571</td>\n",
       "      <td>-1.027396</td>\n",
       "      <td>-0.402274</td>\n",
       "      <td>-0.506737</td>\n",
       "      <td>-0.653502</td>\n",
       "      <td>-0.357015</td>\n",
       "    </tr>\n",
       "    <tr>\n",
       "      <th>872899</th>\n",
       "      <td>1.230214</td>\n",
       "      <td>-0.868636</td>\n",
       "      <td>-0.402274</td>\n",
       "      <td>0.356270</td>\n",
       "      <td>-0.308454</td>\n",
       "      <td>-0.104800</td>\n",
       "    </tr>\n",
       "    <tr>\n",
       "      <th>872900</th>\n",
       "      <td>1.230214</td>\n",
       "      <td>-0.815717</td>\n",
       "      <td>0.336361</td>\n",
       "      <td>-0.506737</td>\n",
       "      <td>-0.768518</td>\n",
       "      <td>-0.357015</td>\n",
       "    </tr>\n",
       "  </tbody>\n",
       "</table>\n",
       "<p>872901 rows × 6 columns</p>\n",
       "</div>"
      ],
      "text/plain": [
       "             NO2        O3        CO       SO2      PM10      PM25\n",
       "0      -0.609132  0.401441  0.705678 -0.075234  0.007840 -0.140831\n",
       "1      -1.011489  0.613120 -0.771591 -0.506737 -0.193438 -0.320984\n",
       "2      -0.896530  0.560201 -0.402274  0.356270 -0.193438 -0.212892\n",
       "3      -0.609132  0.242681 -0.402274 -0.075234 -0.049668 -0.104800\n",
       "4      -0.781571  0.666040 -0.771591  0.356270 -0.049668 -0.248923\n",
       "...          ...       ...       ...       ...       ...       ...\n",
       "872896  1.805010 -1.080316  0.705678 -0.506737 -0.452224 -0.212892\n",
       "872897  1.862489 -1.080316  0.705678 -0.075234 -0.222192 -0.032739\n",
       "872898  1.632571 -1.027396 -0.402274 -0.506737 -0.653502 -0.357015\n",
       "872899  1.230214 -0.868636 -0.402274  0.356270 -0.308454 -0.104800\n",
       "872900  1.230214 -0.815717  0.336361 -0.506737 -0.768518 -0.357015\n",
       "\n",
       "[872901 rows x 6 columns]"
      ]
     },
     "execution_count": 8,
     "metadata": {},
     "output_type": "execute_result"
    }
   ],
   "source": [
    "q"
   ]
  },
  {
   "cell_type": "code",
   "execution_count": null,
   "metadata": {},
   "outputs": [],
   "source": []
  }
 ],
 "metadata": {
  "kernelspec": {
   "display_name": "Python 3",
   "language": "python",
   "name": "python3"
  },
  "language_info": {
   "codemirror_mode": {
    "name": "ipython",
    "version": 3
   },
   "file_extension": ".py",
   "mimetype": "text/x-python",
   "name": "python",
   "nbconvert_exporter": "python",
   "pygments_lexer": "ipython3",
   "version": "3.8.5"
  }
 },
 "nbformat": 4,
 "nbformat_minor": 4
}
