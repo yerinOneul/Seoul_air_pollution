{
 "cells": [
  {
   "cell_type": "code",
   "execution_count": 6,
   "metadata": {},
   "outputs": [],
   "source": [
    "class Preprocessing :\n",
    "    #make linear regression model and fit, return linear regression model and score\n",
    "    #df : dataframe\n",
    "    #columns : columns list for make linear regression model\n",
    "    #target : target feature name\n",
    "    #test : train test split's test_size parameter\n",
    "    #random= : train test split's random_state parameter\n",
    "    #return : linear regression model and score\n",
    "    def reg_score(self,df,columns,target,test = 0.2,random=0):\n",
    "        from sklearn.model_selection import train_test_split\n",
    "        from sklearn.linear_model import LinearRegression\n",
    "        t_col = columns.copy()\n",
    "        t_col.append(target)\n",
    "        data = df[t_col]\n",
    "        clean_df = data.dropna(how=\"any\")\n",
    "        train_X, test_X, train_y, test_y = train_test_split(\n",
    "            clean_df[columns],clean_df[target],test_size=test,random_state=random)\n",
    "        linear = LinearRegression().fit(train_X,train_y)\n",
    "        return linear,linear.score(test_X,test_y)\n",
    "    \n",
    "    #Return Scaled Dataframe\n",
    "    #df : dataframe\n",
    "    #method : scaling method (standard, minmax, maxabs, robust)\n",
    "    #return : scaled dataframe\n",
    "    def scaler(self,df,method = \"std\"):\n",
    "        if method == \"std\" : \n",
    "            return (df - df.mean()) / df.std()\n",
    "        elif method == \"minmax\" :\n",
    "            return (df- df.min()) /(df.max() - df.min())\n",
    "        elif method == \"maxabs\" :\n",
    "            return df/df.abs().max()\n",
    "        elif method == \"robust\" :\n",
    "            return (df - df.median()) / (df.quantile(.75)-df.quantile(.25))\n",
    "        else : \n",
    "            raise Exception(\"Scaling method input error.\")\n",
    "            \n",
    "    #Return Scaled Dataframe Matrix\n",
    "    #df : dataframe\n",
    "    #return : scaled dataframe matrix, (0,0) = std, (0,1) = minmax, (1,0) = maxabs, (1,1) = robust           \n",
    "    def scalerMatrix(self,df):\n",
    "        return [[self.scaler(df,\"std\"),self.scaler(df,\"minmax\")],[self.scaler(df,\"maxabs\"),self.scaler(df,\"robust\")]]"
   ]
  },
  {
   "cell_type": "code",
   "execution_count": null,
   "metadata": {},
   "outputs": [],
   "source": []
  }
 ],
 "metadata": {
  "kernelspec": {
   "display_name": "Python 3",
   "language": "python",
   "name": "python3"
  },
  "language_info": {
   "codemirror_mode": {
    "name": "ipython",
    "version": 3
   },
   "file_extension": ".py",
   "mimetype": "text/x-python",
   "name": "python",
   "nbconvert_exporter": "python",
   "pygments_lexer": "ipython3",
   "version": "3.8.5"
  }
 },
 "nbformat": 4,
 "nbformat_minor": 4
}
